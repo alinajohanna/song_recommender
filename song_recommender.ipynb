{
 "cells": [
  {
   "cell_type": "code",
   "execution_count": 1,
   "id": "9206d10c",
   "metadata": {},
   "outputs": [],
   "source": [
    "import pandas as pd\n",
    "import numpy as np\n",
    "\n",
    "import matplotlib.pyplot as plt\n",
    "import seaborn as sns\n",
    "import plotly.graph_objects as go\n",
    "\n",
    "#import scipy\n",
    "\n",
    "#from sklearn.preprocessing import StandardScaler\n",
    "#from sklearn.cluster import KMeans\n",
    "#from sklearn.metrics import silhouette_score"
   ]
  },
  {
   "cell_type": "code",
   "execution_count": 2,
   "id": "9df9628a",
   "metadata": {},
   "outputs": [],
   "source": [
    "#hot_songs = pd.read_csv('../../../Day_2/Afternoon/lab-spotify-api/hot_songs.csv')\n",
    "#not_hot_songs = pd.read_csv('../../../Day_2/Afternoon/lab-spotify-api/not_hot_songs.csv')\n",
    "all_songs = pd.read_csv('all_songs_df.csv')"
   ]
  },
  {
   "cell_type": "code",
   "execution_count": 3,
   "id": "2f6555b0",
   "metadata": {
    "scrolled": true
   },
   "outputs": [],
   "source": [
    "all_songs.drop(columns=\"Unnamed: 0\",inplace=True)"
   ]
  },
  {
   "cell_type": "markdown",
   "id": "826ace78",
   "metadata": {},
   "source": [
    "## The song recommender"
   ]
  },
  {
   "cell_type": "code",
   "execution_count": 4,
   "id": "b641ce71",
   "metadata": {},
   "outputs": [],
   "source": [
    "from functions import *\n",
    "#from config import *\n",
    "#import spotipy as sp\n",
    "#from spotipy.oauth2 import SpotifyClientCredentials"
   ]
  },
  {
   "cell_type": "code",
   "execution_count": 5,
   "id": "8f39d785",
   "metadata": {},
   "outputs": [],
   "source": [
    "#import pickle\n",
    "#from scipy.spatial import distance_matrix"
   ]
  },
  {
   "cell_type": "code",
   "execution_count": 6,
   "id": "587271d3",
   "metadata": {},
   "outputs": [
    {
     "name": "stdout",
     "output_type": "stream",
     "text": [
      "Please enter the name of a song or an artist: Hello\n",
      "Processing track...\n",
      "Retrieving audio features...\n",
      "Here is a recommended song: Sterrenstof by De Jeugd Van Tegenwoordig\n",
      "Type \"next\" if you want to explore more amazing music. If not then type \"end\": end\n",
      "Great! Enjoy listening to the song!\n"
     ]
    }
   ],
   "source": [
    "recommender(all_songs)"
   ]
  }
 ],
 "metadata": {
  "kernelspec": {
   "display_name": "Python 3 (ipykernel)",
   "language": "python",
   "name": "python3"
  },
  "language_info": {
   "codemirror_mode": {
    "name": "ipython",
    "version": 3
   },
   "file_extension": ".py",
   "mimetype": "text/x-python",
   "name": "python",
   "nbconvert_exporter": "python",
   "pygments_lexer": "ipython3",
   "version": "3.11.5"
  }
 },
 "nbformat": 4,
 "nbformat_minor": 5
}
